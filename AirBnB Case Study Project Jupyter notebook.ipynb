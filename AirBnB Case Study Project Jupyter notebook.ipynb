{
 "cells": [
  {
   "cell_type": "markdown",
   "metadata": {},
   "source": [
    "# AirBnB NY Locations Data Case Study\n",
    "\n",
    "In this final project, you task will be to take the data provided and find evidance to answer the following questions.\n",
    "\n",
    "1. Which hosts are the busiest and why?\n",
    "2. How many neighborhood groups are available and which shows up the most?\n",
    "3. Are private rooms the most popular in manhattan?\n",
    "4. Which hosts are the busiest and based on their reviews?\n",
    "5. Which neighorhood group has the highest average price?\n",
    "6. Which neighborhood group has the highest total price?\n",
    "7. Which top 5 hosts have the highest total price?\n",
    "8. Who currently has no (zero) availability with a review count of 100 or more?\n",
    "9. What host has the highest total of prices and where are they located?\n",
    "10. When did Danielle from Queens last receive a review?\n",
    "\n",
    "You will be given **4 hours** to complete this assignment. \n",
    "**Be Advised** I will go dark for this intire assignment time period. That said, any questions that you would like to ask about the data, or the project **MUST** be asked before the time starts. Once the time has started, I can no longer give information.\n",
    "\n",
    "This is to similate what you will face when you are out in the wild. \n",
    "\n",
    "Happy Coding!"
   ]
  },
  {
   "cell_type": "code",
   "execution_count": 1,
   "metadata": {},
   "outputs": [],
   "source": [
    "import numpy as np\n",
    "import pandas as pd\n",
    "import matplotlib.pyplot as plt"
   ]
  },
  {
   "cell_type": "code",
   "execution_count": 3,
   "metadata": {},
   "outputs": [
    {
     "data": {
      "text/html": [
       "<div>\n",
       "<style scoped>\n",
       "    .dataframe tbody tr th:only-of-type {\n",
       "        vertical-align: middle;\n",
       "    }\n",
       "\n",
       "    .dataframe tbody tr th {\n",
       "        vertical-align: top;\n",
       "    }\n",
       "\n",
       "    .dataframe thead th {\n",
       "        text-align: right;\n",
       "    }\n",
       "</style>\n",
       "<table border=\"1\" class=\"dataframe\">\n",
       "  <thead>\n",
       "    <tr style=\"text-align: right;\">\n",
       "      <th></th>\n",
       "      <th>id</th>\n",
       "      <th>name</th>\n",
       "      <th>host_id</th>\n",
       "      <th>host_name</th>\n",
       "      <th>neighbourhood_group</th>\n",
       "      <th>neighbourhood</th>\n",
       "      <th>latitude</th>\n",
       "      <th>longitude</th>\n",
       "      <th>room_type</th>\n",
       "      <th>price</th>\n",
       "      <th>minimum_nights</th>\n",
       "      <th>number_of_reviews</th>\n",
       "      <th>last_review</th>\n",
       "      <th>reviews_per_month</th>\n",
       "      <th>calculated_host_listings_count</th>\n",
       "      <th>availability_365</th>\n",
       "    </tr>\n",
       "  </thead>\n",
       "  <tbody>\n",
       "    <tr>\n",
       "      <th>0</th>\n",
       "      <td>2539</td>\n",
       "      <td>Clean &amp; quiet apt home by the park</td>\n",
       "      <td>2787</td>\n",
       "      <td>John</td>\n",
       "      <td>Brooklyn</td>\n",
       "      <td>Kensington</td>\n",
       "      <td>40.64749</td>\n",
       "      <td>-73.97237</td>\n",
       "      <td>Private room</td>\n",
       "      <td>149</td>\n",
       "      <td>1</td>\n",
       "      <td>9</td>\n",
       "      <td>2018-10-19</td>\n",
       "      <td>0.21</td>\n",
       "      <td>6</td>\n",
       "      <td>365</td>\n",
       "    </tr>\n",
       "    <tr>\n",
       "      <th>1</th>\n",
       "      <td>2595</td>\n",
       "      <td>Skylit Midtown Castle</td>\n",
       "      <td>2845</td>\n",
       "      <td>Jennifer</td>\n",
       "      <td>Manhattan</td>\n",
       "      <td>Midtown</td>\n",
       "      <td>40.75362</td>\n",
       "      <td>-73.98377</td>\n",
       "      <td>Entire home/apt</td>\n",
       "      <td>225</td>\n",
       "      <td>1</td>\n",
       "      <td>45</td>\n",
       "      <td>2019-05-21</td>\n",
       "      <td>0.38</td>\n",
       "      <td>2</td>\n",
       "      <td>355</td>\n",
       "    </tr>\n",
       "    <tr>\n",
       "      <th>2</th>\n",
       "      <td>3647</td>\n",
       "      <td>THE VILLAGE OF HARLEM....NEW YORK !</td>\n",
       "      <td>4632</td>\n",
       "      <td>Elisabeth</td>\n",
       "      <td>Manhattan</td>\n",
       "      <td>Harlem</td>\n",
       "      <td>40.80902</td>\n",
       "      <td>-73.94190</td>\n",
       "      <td>Private room</td>\n",
       "      <td>150</td>\n",
       "      <td>3</td>\n",
       "      <td>0</td>\n",
       "      <td>NaN</td>\n",
       "      <td>NaN</td>\n",
       "      <td>1</td>\n",
       "      <td>365</td>\n",
       "    </tr>\n",
       "    <tr>\n",
       "      <th>3</th>\n",
       "      <td>3831</td>\n",
       "      <td>Cozy Entire Floor of Brownstone</td>\n",
       "      <td>4869</td>\n",
       "      <td>LisaRoxanne</td>\n",
       "      <td>Brooklyn</td>\n",
       "      <td>Clinton Hill</td>\n",
       "      <td>40.68514</td>\n",
       "      <td>-73.95976</td>\n",
       "      <td>Entire home/apt</td>\n",
       "      <td>89</td>\n",
       "      <td>1</td>\n",
       "      <td>270</td>\n",
       "      <td>2019-07-05</td>\n",
       "      <td>4.64</td>\n",
       "      <td>1</td>\n",
       "      <td>194</td>\n",
       "    </tr>\n",
       "    <tr>\n",
       "      <th>4</th>\n",
       "      <td>5022</td>\n",
       "      <td>Entire Apt: Spacious Studio/Loft by central park</td>\n",
       "      <td>7192</td>\n",
       "      <td>Laura</td>\n",
       "      <td>Manhattan</td>\n",
       "      <td>East Harlem</td>\n",
       "      <td>40.79851</td>\n",
       "      <td>-73.94399</td>\n",
       "      <td>Entire home/apt</td>\n",
       "      <td>80</td>\n",
       "      <td>10</td>\n",
       "      <td>9</td>\n",
       "      <td>2018-11-19</td>\n",
       "      <td>0.10</td>\n",
       "      <td>1</td>\n",
       "      <td>0</td>\n",
       "    </tr>\n",
       "  </tbody>\n",
       "</table>\n",
       "</div>"
      ],
      "text/plain": [
       "     id                                              name  host_id  \\\n",
       "0  2539                Clean & quiet apt home by the park     2787   \n",
       "1  2595                             Skylit Midtown Castle     2845   \n",
       "2  3647               THE VILLAGE OF HARLEM....NEW YORK !     4632   \n",
       "3  3831                   Cozy Entire Floor of Brownstone     4869   \n",
       "4  5022  Entire Apt: Spacious Studio/Loft by central park     7192   \n",
       "\n",
       "     host_name neighbourhood_group neighbourhood  latitude  longitude  \\\n",
       "0         John            Brooklyn    Kensington  40.64749  -73.97237   \n",
       "1     Jennifer           Manhattan       Midtown  40.75362  -73.98377   \n",
       "2    Elisabeth           Manhattan        Harlem  40.80902  -73.94190   \n",
       "3  LisaRoxanne            Brooklyn  Clinton Hill  40.68514  -73.95976   \n",
       "4        Laura           Manhattan   East Harlem  40.79851  -73.94399   \n",
       "\n",
       "         room_type  price  minimum_nights  number_of_reviews last_review  \\\n",
       "0     Private room    149               1                  9  2018-10-19   \n",
       "1  Entire home/apt    225               1                 45  2019-05-21   \n",
       "2     Private room    150               3                  0         NaN   \n",
       "3  Entire home/apt     89               1                270  2019-07-05   \n",
       "4  Entire home/apt     80              10                  9  2018-11-19   \n",
       "\n",
       "   reviews_per_month  calculated_host_listings_count  availability_365  \n",
       "0               0.21                               6               365  \n",
       "1               0.38                               2               355  \n",
       "2                NaN                               1               365  \n",
       "3               4.64                               1               194  \n",
       "4               0.10                               1                 0  "
      ]
     },
     "execution_count": 3,
     "metadata": {},
     "output_type": "execute_result"
    }
   ],
   "source": [
    "air_bnb = pd.read_csv('AB_NYC_2019.csv')\n",
    "air_bnb.head()"
   ]
  },
  {
   "cell_type": "code",
   "execution_count": 58,
   "metadata": {},
   "outputs": [],
   "source": [
    "# How many neighborhood groups are available and which shows up the most?\n",
    "all_neighborhood_groups = air_bnb.groupby('neighbourhood_group').size()\n",
    "\n",
    "most_popular_neighborhood = all_neighborhood_groups.idxmax()\n",
    "\n",
    "count_most_popular_neighborhood = all_neighborhood_groups.max()\n"
   ]
  },
  {
   "cell_type": "code",
   "execution_count": 12,
   "metadata": {},
   "outputs": [
    {
     "name": "stdout",
     "output_type": "stream",
     "text": [
      "Private rooms are NOT the most desired type of rental\n"
     ]
    }
   ],
   "source": [
    "# Are private rooms the most popular in manhattan?\n",
    "manhattan_data = air_bnb[air_bnb['neighbourhood_group'] == 'Manhattan']\n",
    "\n",
    "count_room_types = manhattan_data['room_type'].value_counts()\n",
    "\n",
    "most_popular_room_type = count_room_types.idxmax()\n",
    "\n",
    "if most_popular_room_type == 'Private room':\n",
    "    print('Private rooms are the most desired type of rental.')\n",
    "else:\n",
    "    print('Private rooms are NOT the most desired type of rental')\n"
   ]
  },
  {
   "cell_type": "code",
   "execution_count": 59,
   "metadata": {},
   "outputs": [],
   "source": [
    "# Which hosts are the busiest and based on their reviews?\n",
    "host_reviews = air_bnb.groupby('host_id')['number_of_reviews'].sum()\n",
    "\n",
    "host_with_the_most = host_reviews.sort_values(ascending = False)\n"
   ]
  },
  {
   "cell_type": "code",
   "execution_count": 60,
   "metadata": {},
   "outputs": [],
   "source": [
    "#Which neighorhood group has the highest average price?\n",
    "average_price_by_neighborhood = air_bnb.groupby('neighbourhood_group')['price'].mean()\n",
    "\n",
    "highest_priced_neighborhood_by_average = average_price_by_neighborhood.idxmax()\n"
   ]
  },
  {
   "cell_type": "code",
   "execution_count": 61,
   "metadata": {},
   "outputs": [],
   "source": [
    "# Which neighbor hood group has the highest total price?\n",
    "highest_total_price_by_neighborhood = air_bnb.groupby('neighbourhood_group')['price'].sum()\n",
    "\n",
    "most_expensive_neighborhood_with_rentals = highest_total_price_by_neighborhood.idxmax()\n"
   ]
  },
  {
   "cell_type": "code",
   "execution_count": 62,
   "metadata": {},
   "outputs": [],
   "source": [
    "#Which top 5 hosts have the highest total price?\n",
    "total_price_per_host = air_bnb.groupby('host_id')['price'].sum()\n",
    "\n",
    "top_5_hosts = total_price_per_host.sort_values(ascending = False).head()\n"
   ]
  },
  {
   "cell_type": "code",
   "execution_count": 63,
   "metadata": {},
   "outputs": [],
   "source": [
    "# Who currently has no (zero) availability with a review count of 100 or more?\n",
    "refined_search_air_bnb = air_bnb[air_bnb['number_of_reviews'] >= 100]\n",
    "\n",
    "hosts_with_nothing_available = refined_search_air_bnb[refined_search_air_bnb['availability_365'] == 0]\n",
    "\n",
    "specific_hosts_with_nothing_available = hosts_with_nothing_available['host_id'].unique()\n"
   ]
  },
  {
   "cell_type": "code",
   "execution_count": 64,
   "metadata": {},
   "outputs": [],
   "source": [
    "# What host has the highest total of prices and where are they located?\n",
    "total_price_by_host = air_bnb.groupby('host_id')['price'].sum()\n",
    "\n",
    "host_with_highest_total_prices = total_price_by_host.idxmax()\n",
    "\n",
    "location_of_host_with_highest_total = air_bnb.loc[air_bnb['host_id'] == host_with_highest_total_prices, 'neighbourhood_group'].iloc[0]\n"
   ]
  },
  {
   "cell_type": "code",
   "execution_count": 65,
   "metadata": {},
   "outputs": [],
   "source": [
    "# When did Danielle from Queens last receive a review?\n",
    "danielle_from_queens_reviews = air_bnb[(air_bnb['host_name'] == 'Danielle') & (air_bnb['neighbourhood_group'] == 'Queens')]\n",
    "\n",
    "sorted_reviews_for_danielle = danielle_from_queens_reviews.sort_values(by = 'last_review', ascending = False)\n",
    "\n",
    "date_of_last_review = sorted_reviews_for_danielle.iloc[0]['last_review']\n"
   ]
  },
  {
   "cell_type": "markdown",
   "metadata": {},
   "source": [
    "## Further Questions\n",
    "\n",
    "1. Which host has the most listings?"
   ]
  },
  {
   "cell_type": "code",
   "execution_count": 66,
   "metadata": {},
   "outputs": [],
   "source": [
    "number_of_listings_per_host = air_bnb.groupby('host_id').size()\n",
    "\n",
    "host_that_lists_the_most = number_of_listings_per_host.idxmax()\n",
    "\n",
    "most_listings_count = number_of_listings_per_host.max()\n"
   ]
  },
  {
   "cell_type": "markdown",
   "metadata": {},
   "source": [
    "2. How many listings have completely open availability?"
   ]
  },
  {
   "cell_type": "code",
   "execution_count": 67,
   "metadata": {},
   "outputs": [],
   "source": [
    "all_year_available_listings_count = air_bnb[air_bnb['availability_365'] == 365].shape[0]\n"
   ]
  },
  {
   "cell_type": "markdown",
   "metadata": {},
   "source": [
    "3. What room_types have the highest review numbers?"
   ]
  },
  {
   "cell_type": "code",
   "execution_count": 68,
   "metadata": {},
   "outputs": [],
   "source": [
    "review_count_by_room_type = air_bnb.groupby('room_type')['number_of_reviews'].sum()\n",
    "\n",
    "room_type_with_highest_reviews = review_count_by_room_type[review_count_by_room_type == review_count_by_room_type.max()]\n"
   ]
  },
  {
   "cell_type": "markdown",
   "metadata": {},
   "source": [
    "# Final Conclusion\n",
    "\n",
    "In this cell, write your final conclusion for each of the questions asked.\n",
    "\n",
    "Also, if you uncovered some more details that were not asked above, please discribe them here.\n",
    "\n",
    "-- Add your conclusion --"
   ]
  },
  {
   "cell_type": "code",
   "execution_count": 69,
   "metadata": {},
   "outputs": [
    {
     "name": "stdout",
     "output_type": "stream",
     "text": [
      "Number of neighborhoods: 5\n",
      "Neighborhood that appears the most: Manhattan\n",
      "Private rooms are NOT the most desired type of rental\n",
      "The top 3 busiest hosts according to the number of reviews they receive are:\n",
      "host_id\n",
      "37312959    2273\n",
      "344035      2205\n",
      "26432133    2017\n",
      "Name: number_of_reviews, dtype: int64\n",
      "The neighborhood group with the highest average price for rentals is: Manhattan\n",
      "The neighborhood with the highest TOTAL price of rentals is: Manhattan\n",
      "The top 5 hosts with the highest total price of rentals are:\n",
      "host_id\n",
      "219517861    82795\n",
      "107434423    70331\n",
      "156158778    37097\n",
      "205031545    35294\n",
      "30283594     33581\n",
      "Name: price, dtype: int64\n",
      "Hosts with no rentals available that have 100 or more reviews:\n",
      "[     7490     79402    129352    193722     67778    239208    303939\n",
      "    522065    683975    242506    792159   1311398   1358312   1360043\n",
      "     36897   1492339   1503831   1649300   1935605   1146958   2265770\n",
      "   2275829   2361715   1787284   1215949   2494666   3558158   3778274\n",
      "   3880974   3955766   4129805   1099716   4434798   5634395    663764\n",
      "    585273   6482637   3571821   6774871   7581642   5464042   4983320\n",
      "   8732694   1562642   8910286   9234456   9268156   3187531   1726966\n",
      "  11947308   3793026  16266298  16106756  13337141  17820079   3912009\n",
      "  17224426  18219988  18834080   9492212    610819  22171095  21641206\n",
      "   6465286  21688465  17921968   3417940  22210080  25404246  10795846\n",
      "   7463662  23719409  28723165  30314132  24561040  31040344  31150792\n",
      "   1197823  25915648  33750239  23082955   5577926  36644635  39603420\n",
      "  22959695  40371157  43509184  10024006  31104953  44924546  23073564\n",
      "  37818581  48726094  48970186  22423049  49511227   5291029  50144728\n",
      "  24175837  36638599  51954926  21430239  27431753   8049682    814747\n",
      "    790177   3417090  61972032    116382  14898658  67261284  42399786\n",
      "   6458590  32357613  84779589  87152012  84141923   9030221  95419310\n",
      "  92195100  26073602  99392252  96148809 102080453 103488282   3479852\n",
      "  35998113   2300134 107296819  94100043 121391142  31658624   3203397\n",
      "  10402380 138721769  28270349  94206273 142878742 133810925 143944704\n",
      "  50760404   7097558 159156636 127740507 176185168  21074914  40119874\n",
      " 209549523]\n",
      "Host with the highest total of prices: 219517861\n",
      "This is where they are located: Manhattan\n",
      "The last time Danielle from Queens received a review was: 2019-07-08\n",
      "The host with the most listings is: 219517861\n",
      "The number of listings that are available during the entire year are: 1295\n",
      "Room types with the highest review numbers:\n",
      "room_type\n",
      "Entire home/apt    580403\n",
      "Name: number_of_reviews, dtype: int64\n"
     ]
    }
   ],
   "source": [
    "print(\"Number of neighborhoods:\", len(all_neighborhood_groups))\n",
    "print(\"Neighborhood that appears the most:\", most_popular_neighborhood)\n",
    "if most_popular_room_type == 'Private room':\n",
    "    print('Private rooms are the most desired type of rental.')\n",
    "else:\n",
    "    print('Private rooms are NOT the most desired type of rental')\n",
    "print('The top 3 busiest hosts according to the number of reviews they receive are:')\n",
    "print(host_with_the_most.head(3))\n",
    "print('The neighborhood group with the highest average price for rentals is:', highest_priced_neighborhood_by_average)\n",
    "print('The neighborhood with the highest TOTAL price of rentals is:', most_expensive_neighborhood_with_rentals)\n",
    "print('The top 5 hosts with the highest total price of rentals are:') \n",
    "print(top_5_hosts)\n",
    "print('Hosts with no rentals available that have 100 or more reviews:') \n",
    "print(specific_hosts_with_nothing_available)\n",
    "print('Host with the highest total of prices:', host_with_highest_total_prices)\n",
    "print('This is where they are located:', location_of_host_with_highest_total)\n",
    "print('The last time Danielle from Queens received a review was:', date_of_last_review)\n",
    "print('The host with the most listings is:', host_that_lists_the_most)\n",
    "print('The number of listings that are available during the entire year are:', all_year_available_listings_count)\n",
    "print('Room types with the highest review numbers:')\n",
    "print(room_type_with_highest_reviews)"
   ]
  },
  {
   "cell_type": "code",
   "execution_count": 57,
   "metadata": {},
   "outputs": [
    {
     "name": "stdout",
     "output_type": "stream",
     "text": [
      "I would draw the conclusion that rentals of entire homes/apartments, located in Manhattan;\n",
      "That have the least availability and the highest total prices of listings.\n",
      "Show the hosts that own the most popular rental properties.\n",
      "I would use the included code to search for the top ten host that own properties\n",
      "fulfilling the these specific requirements. Here are the results:\n",
      "     host_id  price  availability_365        host_name\n",
      "0    4382127   9999               365             Matt\n",
      "1  271248669   6500               365            Jenny\n",
      "2     213266   5000               365          Jessica\n",
      "3   45863742   3750               365            James\n",
      "4  229458601   3200               365              Kay\n",
      "5  101080203   3000               365  Luxury Property\n",
      "6    1581845   2400               365             Indi\n",
      "7   10767841   2000               365            Manon\n",
      "8  270294045   1600               365        Christian\n",
      "9    5118419   1500               365             Greg\n"
     ]
    }
   ],
   "source": [
    "print('I would draw the conclusion that rentals of entire homes/apartments, located in Manhattan;')\n",
    "print('That have the least availability and the highest total prices of listings.')\n",
    "print('Show the hosts that own the most popular rental properties.')\n",
    "print('I would use the included code to search for the top ten host that own properties')\n",
    "print('fulfilling the these specific requirements. Here are the results:')\n",
    "\n",
    "entire_home_rentals_manhattan = air_bnb[(air_bnb['neighbourhood_group'] == 'Manhattan') & (air_bnb['room_type'] == 'Entire home/apt')]\n",
    "\n",
    "host_stats = entire_home_rentals_manhattan.groupby('host_id').agg({'price': 'sum', 'availability_365': 'min'})\n",
    "\n",
    "top_10_hosts = host_stats.sort_values(by = ['availability_365', 'price'], ascending = False).head(10)\n",
    "\n",
    "top_10_hosts_id_num_and_names = top_10_hosts.merge(air_bnb[['host_id', 'host_name']], how = 'left', on = 'host_id')\n",
    "\n",
    "print(top_10_hosts_id_num_and_names)"
   ]
  }
 ],
 "metadata": {
  "kernelspec": {
   "display_name": "Python 3 (ipykernel)",
   "language": "python",
   "name": "python3"
  },
  "language_info": {
   "codemirror_mode": {
    "name": "ipython",
    "version": 3
   },
   "file_extension": ".py",
   "mimetype": "text/x-python",
   "name": "python",
   "nbconvert_exporter": "python",
   "pygments_lexer": "ipython3",
   "version": "3.11.7"
  }
 },
 "nbformat": 4,
 "nbformat_minor": 2
}
